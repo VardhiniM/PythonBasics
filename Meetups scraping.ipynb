{
 "cells": [
  {
   "cell_type": "code",
   "execution_count": 98,
   "metadata": {},
   "outputs": [],
   "source": [
    "from bs4 import BeautifulSoup\n",
    "from requests import get\n",
    "import re\n",
    "import xlwt \n",
    "from xlwt import Workbook\n",
    "import pandas as pd"
   ]
  },
  {
   "cell_type": "code",
   "execution_count": 99,
   "metadata": {},
   "outputs": [],
   "source": [
    "# Splits the keyword based on space and inserts + between each word (to make it compatible to the url)\n",
    "# Change the Keyword to match requirements\n",
    "keyword = \"machine learning\"\n",
    "search = keyword.split()\n",
    "if len(search) > 1:\n",
    "    search_key = \"\"\n",
    "    for each in search:\n",
    "        search_key += each + \"+\"\n",
    "    search_key = search_key[0:len(search_key)-1]\n",
    "else:\n",
    "    search_key = search[0]\n"
   ]
  },
  {
   "cell_type": "code",
   "execution_count": 100,
   "metadata": {},
   "outputs": [],
   "source": [
    "url = \"https://www.meetup.com/find/events/?allMeetups=false&keywords=\"+ search_key + \"&radius=10&userFreeform=san+fra&mcId=c94101&gcResults=San+Francisco%2C+CA%2C+USA%3AUS%3ACalifornia%3ASan+Francisco+County%3ASan+Francisco%3Anull%3Anull%3A37.7749295%3A-122.4194155&change=yes&eventFilter=mysugg\"\n",
    "#url = \"https://www.meetup.com/find/events/?allMeetups=false&keywords=python&radius=10&userFreeform=San+Francisco%2C+California%2C+USA&mcId=c94101&mcName=San+Francisco%2C+CA&eventFilter=all\"\n",
    "response = get(url)"
   ]
  },
  {
   "cell_type": "code",
   "execution_count": 101,
   "metadata": {},
   "outputs": [],
   "source": [
    "data = BeautifulSoup(response.text, \"html.parser\")"
   ]
  },
  {
   "cell_type": "code",
   "execution_count": 102,
   "metadata": {},
   "outputs": [],
   "source": [
    "data1 = data.findAll(\"a\", itemprop=\"url\")"
   ]
  },
  {
   "cell_type": "code",
   "execution_count": 103,
   "metadata": {},
   "outputs": [],
   "source": [
    "# Removes the duplicate url as we get each url two times when we get all the <a> tags\n",
    "data1 = data.findAll([\"a\"], itemprop=\"url\")\n",
    "weblinks = []\n",
    "i = 1\n",
    "for link in data1:\n",
    "    if i%2 == 0:\n",
    "        weblinks.append(link.get(\"href\"))\n",
    "    i += 1"
   ]
  },
  {
   "cell_type": "code",
   "execution_count": 104,
   "metadata": {},
   "outputs": [],
   "source": [
    "eventname = data.findAll(\"span\", itemprop=\"name\")"
   ]
  },
  {
   "cell_type": "code",
   "execution_count": 105,
   "metadata": {},
   "outputs": [],
   "source": [
    "# Separates the event name and the host name\n",
    "group = []\n",
    "event = []\n",
    "i = 1\n",
    "for e in eventname:\n",
    "    if i%2 == 1:\n",
    "        group.append(e.get_text())\n",
    "    else:\n",
    "        event.append(e.get_text())\n",
    "    i += 1"
   ]
  },
  {
   "cell_type": "code",
   "execution_count": 106,
   "metadata": {},
   "outputs": [],
   "source": [
    "name = data.findAll(\"time\", itemprop=\"startDate\")"
   ]
  },
  {
   "cell_type": "code",
   "execution_count": 107,
   "metadata": {},
   "outputs": [],
   "source": [
    "# regular expression to extract date from the date time format\n",
    "dateregex = re.compile(\"\\d{4}-\\d{2}-\\d{2}\")"
   ]
  },
  {
   "cell_type": "code",
   "execution_count": 108,
   "metadata": {},
   "outputs": [],
   "source": [
    "# extracts date from the datetime tags\n",
    "eventdate = []\n",
    "eventtime = []\n",
    "for i in name:\n",
    "    if(i.get(\"datetime\") != None):\n",
    "        eventdate.append(dateregex.findall(str(i.get(\"datetime\")))[0])\n",
    "    eventtime.append(i.get_text().strip('\\n').replace('\\n', ' '))"
   ]
  },
  {
   "cell_type": "code",
   "execution_count": 109,
   "metadata": {},
   "outputs": [],
   "source": [
    "df = pd.DataFrame(list(zip(event, group, eventdate, eventtime, weblinks)), \n",
    "                  columns = [\"Event\", \"Group Name\", \"Date\", \"Time\", \"Weblink\"])"
   ]
  },
  {
   "cell_type": "code",
   "execution_count": 110,
   "metadata": {},
   "outputs": [],
   "source": [
    "# Saves the data to a csv file\n",
    "export_csv = df.to_csv (r'events.csv', index = None, header=True)"
   ]
  }
 ],
 "metadata": {
  "kernelspec": {
   "display_name": "Python 3",
   "language": "python",
   "name": "python3"
  },
  "language_info": {
   "codemirror_mode": {
    "name": "ipython",
    "version": 3
   },
   "file_extension": ".py",
   "mimetype": "text/x-python",
   "name": "python",
   "nbconvert_exporter": "python",
   "pygments_lexer": "ipython3",
   "version": "3.7.3"
  }
 },
 "nbformat": 4,
 "nbformat_minor": 2
}
